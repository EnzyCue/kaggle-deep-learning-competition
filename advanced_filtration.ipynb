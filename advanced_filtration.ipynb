{
 "cells": [
  {
   "cell_type": "code",
   "execution_count": 4,
   "id": "004c7e3c-e82b-4804-a710-e045f64b5a7a",
   "metadata": {},
   "outputs": [],
   "source": [
    "import pandas as pd\n"
   ]
  },
  {
   "cell_type": "code",
   "execution_count": 5,
   "id": "6b472a79-0b80-4f9f-82e1-9ed28570ef7e",
   "metadata": {},
   "outputs": [],
   "source": [
    "proteins = pd.read_csv(\"filteredtrain3.csv\")"
   ]
  },
  {
   "cell_type": "code",
   "execution_count": 21,
   "id": "12dfc0dd-a389-49fc-ab06-f8832e5b4702",
   "metadata": {},
   "outputs": [
    {
     "data": {
      "text/plain": [
       "count    229732.000000\n",
       "mean        208.567444\n",
       "std          56.982617\n",
       "min         112.000000\n",
       "25%         159.000000\n",
       "50%         216.000000\n",
       "75%         231.000000\n",
       "max         336.000000\n",
       "Name: size, dtype: float64"
      ]
     },
     "execution_count": 21,
     "metadata": {},
     "output_type": "execute_result"
    }
   ],
   "source": [
    "proteins['size'].describe()\n",
    "\n"
   ]
  },
  {
   "cell_type": "code",
   "execution_count": null,
   "id": "dd390230-dde4-4c26-add1-568f07c7c82c",
   "metadata": {},
   "outputs": [],
   "source": []
  }
 ],
 "metadata": {
  "kernelspec": {
   "display_name": "Python 3 (ipykernel)",
   "language": "python",
   "name": "python3"
  },
  "language_info": {
   "codemirror_mode": {
    "name": "ipython",
    "version": 3
   },
   "file_extension": ".py",
   "mimetype": "text/x-python",
   "name": "python",
   "nbconvert_exporter": "python",
   "pygments_lexer": "ipython3",
   "version": "3.8.0"
  }
 },
 "nbformat": 4,
 "nbformat_minor": 5
}
