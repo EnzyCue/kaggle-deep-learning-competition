{
 "cells": [
  {
   "cell_type": "code",
   "execution_count": 2,
   "id": "ac64b001-b7d2-488c-81bd-72d61ad2cb4b",
   "metadata": {},
   "outputs": [],
   "source": [
    "import pandas as pd"
   ]
  },
  {
   "cell_type": "code",
   "execution_count": 25,
   "id": "715fea74-6ce0-4ab8-89b0-8e18e70c3370",
   "metadata": {},
   "outputs": [],
   "source": [
    "proteins = pd.read_csv(\"traincsv.csv\")"
   ]
  },
  {
   "cell_type": "code",
   "execution_count": 26,
   "id": "5f2be096-ce29-4d45-9969-306fec7b6882",
   "metadata": {},
   "outputs": [
    {
     "data": {
      "text/html": [
       "<div>\n",
       "<style scoped>\n",
       "    .dataframe tbody tr th:only-of-type {\n",
       "        vertical-align: middle;\n",
       "    }\n",
       "\n",
       "    .dataframe tbody tr th {\n",
       "        vertical-align: top;\n",
       "    }\n",
       "\n",
       "    .dataframe thead th {\n",
       "        text-align: right;\n",
       "    }\n",
       "</style>\n",
       "<table border=\"1\" class=\"dataframe\">\n",
       "  <thead>\n",
       "    <tr style=\"text-align: right;\">\n",
       "      <th></th>\n",
       "      <th>seq_id</th>\n",
       "      <th>protein_sequence</th>\n",
       "      <th>pH</th>\n",
       "      <th>data_source</th>\n",
       "      <th>tm</th>\n",
       "      <th>Size</th>\n",
       "    </tr>\n",
       "  </thead>\n",
       "  <tbody>\n",
       "    <tr>\n",
       "      <th>0</th>\n",
       "      <td>30277.0</td>\n",
       "      <td>RPAVT</td>\n",
       "      <td>7.0</td>\n",
       "      <td>doi.org/10.1038/s41592-020-0801-4</td>\n",
       "      <td>50.4</td>\n",
       "      <td>5.0</td>\n",
       "    </tr>\n",
       "    <tr>\n",
       "      <th>1</th>\n",
       "      <td>30284.0</td>\n",
       "      <td>RPGSI</td>\n",
       "      <td>7.0</td>\n",
       "      <td>doi.org/10.1038/s41592-020-0801-4</td>\n",
       "      <td>49.2</td>\n",
       "      <td>5.0</td>\n",
       "    </tr>\n",
       "    <tr>\n",
       "      <th>2</th>\n",
       "      <td>2806.0</td>\n",
       "      <td>LVVGTALNYINIF</td>\n",
       "      <td>7.0</td>\n",
       "      <td>doi.org/10.1038/s41592-020-0801-4</td>\n",
       "      <td>58.3</td>\n",
       "      <td>13.0</td>\n",
       "    </tr>\n",
       "    <tr>\n",
       "      <th>3</th>\n",
       "      <td>30387.0</td>\n",
       "      <td>SCQGTGKDSHSFSS</td>\n",
       "      <td>7.0</td>\n",
       "      <td>doi.org/10.1038/s41592-020-0801-4</td>\n",
       "      <td>37.7</td>\n",
       "      <td>14.0</td>\n",
       "    </tr>\n",
       "    <tr>\n",
       "      <th>4</th>\n",
       "      <td>1497.0</td>\n",
       "      <td>FGEDIKHLGNSISRAA</td>\n",
       "      <td>7.0</td>\n",
       "      <td>doi.org/10.1038/s41592-020-0801-4</td>\n",
       "      <td>64.4</td>\n",
       "      <td>16.0</td>\n",
       "    </tr>\n",
       "  </tbody>\n",
       "</table>\n",
       "</div>"
      ],
      "text/plain": [
       "    seq_id  protein_sequence   pH                        data_source    tm  \\\n",
       "0  30277.0             RPAVT  7.0  doi.org/10.1038/s41592-020-0801-4  50.4   \n",
       "1  30284.0             RPGSI  7.0  doi.org/10.1038/s41592-020-0801-4  49.2   \n",
       "2   2806.0     LVVGTALNYINIF  7.0  doi.org/10.1038/s41592-020-0801-4  58.3   \n",
       "3  30387.0    SCQGTGKDSHSFSS  7.0  doi.org/10.1038/s41592-020-0801-4  37.7   \n",
       "4   1497.0  FGEDIKHLGNSISRAA  7.0  doi.org/10.1038/s41592-020-0801-4  64.4   \n",
       "\n",
       "   Size  \n",
       "0   5.0  \n",
       "1   5.0  \n",
       "2  13.0  \n",
       "3  14.0  \n",
       "4  16.0  "
      ]
     },
     "execution_count": 26,
     "metadata": {},
     "output_type": "execute_result"
    }
   ],
   "source": [
    "proteins.head()"
   ]
  },
  {
   "cell_type": "code",
   "execution_count": 27,
   "id": "e5ce8fe7-445a-4a53-b89b-ffbb3b2cf824",
   "metadata": {},
   "outputs": [],
   "source": [
    "#function that removes any proteins that aren't at least 1 amino acid (unit of measurement) awy from nearest one.\n",
    "#note: this will run into issues if you put an entry that sits at the start or end of the table\n",
    "\n",
    "def remove_unconsecutive(dataframe, index):\n",
    "    primary_size = dataframe.loc[index, 'Size']\n",
    "        \n",
    "    difference_in_size_fwd = abs(dataframe.loc[index + 1, 'Size'] - primary_size)\n",
    "    \n",
    "    #print(difference_in_size_fwd)\n",
    "    \n",
    "    difference_in_size_bwd = abs(dataframe.loc[index - 1, 'Size'] - primary_size)\n",
    "    \n",
    "    #print(difference_in_size_bwd)\n",
    "\n",
    "    if (difference_in_size_fwd > 1) and (difference_in_size_bwd > 1):\n",
    "        \n",
    "        #print(\"BING!,  remove  \", primary_size)\n",
    "        \n",
    "        \n",
    "        \n",
    "        \n",
    "        dataframe.drop(index, inplace=True)\n",
    "        dataframe.reset_index(drop=True, inplace=True)\n",
    "        \n",
    "        return True, dataframe\n",
    "                     \n",
    "                \n",
    "    return False\n",
    "\n"
   ]
  },
  {
   "cell_type": "code",
   "execution_count": 28,
   "id": "7156c36e-da89-4212-a37a-391bbaa290d6",
   "metadata": {},
   "outputs": [
    {
     "data": {
      "text/plain": [
       "(25506, 6)"
      ]
     },
     "execution_count": 28,
     "metadata": {},
     "output_type": "execute_result"
    }
   ],
   "source": [
    "proteins.shape"
   ]
  },
  {
   "cell_type": "code",
   "execution_count": 29,
   "id": "fe9a365b-ff14-4ab2-966a-fbf7806db80c",
   "metadata": {},
   "outputs": [
    {
     "data": {
      "text/plain": [
       "(23359, 6)"
      ]
     },
     "execution_count": 29,
     "metadata": {},
     "output_type": "execute_result"
    }
   ],
   "source": [
    "#remove NaN rows\n",
    "proteins = proteins.dropna(axis = 0)\n",
    "\n",
    "proteins.shape"
   ]
  },
  {
   "cell_type": "code",
   "execution_count": 30,
   "id": "fc36823c-8c27-4198-bc68-e71d6954a0b3",
   "metadata": {},
   "outputs": [],
   "source": [
    "testy = proteins.copy()"
   ]
  },
  {
   "cell_type": "code",
   "execution_count": 31,
   "id": "5a747844-f69d-4d8a-a0fe-1ba2890d525a",
   "metadata": {},
   "outputs": [
    {
     "data": {
      "text/html": [
       "<div>\n",
       "<style scoped>\n",
       "    .dataframe tbody tr th:only-of-type {\n",
       "        vertical-align: middle;\n",
       "    }\n",
       "\n",
       "    .dataframe tbody tr th {\n",
       "        vertical-align: top;\n",
       "    }\n",
       "\n",
       "    .dataframe thead th {\n",
       "        text-align: right;\n",
       "    }\n",
       "</style>\n",
       "<table border=\"1\" class=\"dataframe\">\n",
       "  <thead>\n",
       "    <tr style=\"text-align: right;\">\n",
       "      <th></th>\n",
       "      <th>seq_id</th>\n",
       "      <th>protein_sequence</th>\n",
       "      <th>pH</th>\n",
       "      <th>data_source</th>\n",
       "      <th>tm</th>\n",
       "      <th>Size</th>\n",
       "    </tr>\n",
       "  </thead>\n",
       "  <tbody>\n",
       "    <tr>\n",
       "      <th>0</th>\n",
       "      <td>30277.0</td>\n",
       "      <td>RPAVT</td>\n",
       "      <td>7.0</td>\n",
       "      <td>doi.org/10.1038/s41592-020-0801-4</td>\n",
       "      <td>50.4</td>\n",
       "      <td>5.0</td>\n",
       "    </tr>\n",
       "    <tr>\n",
       "      <th>1</th>\n",
       "      <td>30284.0</td>\n",
       "      <td>RPGSI</td>\n",
       "      <td>7.0</td>\n",
       "      <td>doi.org/10.1038/s41592-020-0801-4</td>\n",
       "      <td>49.2</td>\n",
       "      <td>5.0</td>\n",
       "    </tr>\n",
       "    <tr>\n",
       "      <th>2</th>\n",
       "      <td>2806.0</td>\n",
       "      <td>LVVGTALNYINIF</td>\n",
       "      <td>7.0</td>\n",
       "      <td>doi.org/10.1038/s41592-020-0801-4</td>\n",
       "      <td>58.3</td>\n",
       "      <td>13.0</td>\n",
       "    </tr>\n",
       "    <tr>\n",
       "      <th>3</th>\n",
       "      <td>30387.0</td>\n",
       "      <td>SCQGTGKDSHSFSS</td>\n",
       "      <td>7.0</td>\n",
       "      <td>doi.org/10.1038/s41592-020-0801-4</td>\n",
       "      <td>37.7</td>\n",
       "      <td>14.0</td>\n",
       "    </tr>\n",
       "    <tr>\n",
       "      <th>4</th>\n",
       "      <td>1497.0</td>\n",
       "      <td>FGEDIKHLGNSISRAA</td>\n",
       "      <td>7.0</td>\n",
       "      <td>doi.org/10.1038/s41592-020-0801-4</td>\n",
       "      <td>64.4</td>\n",
       "      <td>16.0</td>\n",
       "    </tr>\n",
       "    <tr>\n",
       "      <th>5</th>\n",
       "      <td>31072.0</td>\n",
       "      <td>VPTVSFLGSISAMQFIQ</td>\n",
       "      <td>7.0</td>\n",
       "      <td>doi.org/10.1038/s41592-020-0801-4</td>\n",
       "      <td>38.7</td>\n",
       "      <td>17.0</td>\n",
       "    </tr>\n",
       "    <tr>\n",
       "      <th>6</th>\n",
       "      <td>2211.0</td>\n",
       "      <td>KFKLCRICFRELAYKGQLPGIKKAS</td>\n",
       "      <td>7.0</td>\n",
       "      <td>doi.org/10.1038/s41592-020-0801-4</td>\n",
       "      <td>76.3</td>\n",
       "      <td>25.0</td>\n",
       "    </tr>\n",
       "    <tr>\n",
       "      <th>7</th>\n",
       "      <td>195.0</td>\n",
       "      <td>AGDTLREFKNATKGLTSDEEEKKKED</td>\n",
       "      <td>7.0</td>\n",
       "      <td>doi.org/10.1038/s41592-020-0801-4</td>\n",
       "      <td>42.6</td>\n",
       "      <td>26.0</td>\n",
       "    </tr>\n",
       "    <tr>\n",
       "      <th>8</th>\n",
       "      <td>1903.0</td>\n",
       "      <td>GVKMYQRRSLEGKLQAEKRKQSEKKA</td>\n",
       "      <td>7.0</td>\n",
       "      <td>doi.org/10.1038/s41592-020-0801-4</td>\n",
       "      <td>42.3</td>\n",
       "      <td>26.0</td>\n",
       "    </tr>\n",
       "    <tr>\n",
       "      <th>9</th>\n",
       "      <td>22349.0</td>\n",
       "      <td>MRRVIPEGYGDRPFADFKYGDLWAGH</td>\n",
       "      <td>7.0</td>\n",
       "      <td>doi.org/10.1038/s41592-020-0801-4</td>\n",
       "      <td>46.8</td>\n",
       "      <td>26.0</td>\n",
       "    </tr>\n",
       "  </tbody>\n",
       "</table>\n",
       "</div>"
      ],
      "text/plain": [
       "    seq_id            protein_sequence   pH  \\\n",
       "0  30277.0                       RPAVT  7.0   \n",
       "1  30284.0                       RPGSI  7.0   \n",
       "2   2806.0               LVVGTALNYINIF  7.0   \n",
       "3  30387.0              SCQGTGKDSHSFSS  7.0   \n",
       "4   1497.0            FGEDIKHLGNSISRAA  7.0   \n",
       "5  31072.0           VPTVSFLGSISAMQFIQ  7.0   \n",
       "6   2211.0   KFKLCRICFRELAYKGQLPGIKKAS  7.0   \n",
       "7    195.0  AGDTLREFKNATKGLTSDEEEKKKED  7.0   \n",
       "8   1903.0  GVKMYQRRSLEGKLQAEKRKQSEKKA  7.0   \n",
       "9  22349.0  MRRVIPEGYGDRPFADFKYGDLWAGH  7.0   \n",
       "\n",
       "                         data_source    tm  Size  \n",
       "0  doi.org/10.1038/s41592-020-0801-4  50.4   5.0  \n",
       "1  doi.org/10.1038/s41592-020-0801-4  49.2   5.0  \n",
       "2  doi.org/10.1038/s41592-020-0801-4  58.3  13.0  \n",
       "3  doi.org/10.1038/s41592-020-0801-4  37.7  14.0  \n",
       "4  doi.org/10.1038/s41592-020-0801-4  64.4  16.0  \n",
       "5  doi.org/10.1038/s41592-020-0801-4  38.7  17.0  \n",
       "6  doi.org/10.1038/s41592-020-0801-4  76.3  25.0  \n",
       "7  doi.org/10.1038/s41592-020-0801-4  42.6  26.0  \n",
       "8  doi.org/10.1038/s41592-020-0801-4  42.3  26.0  \n",
       "9  doi.org/10.1038/s41592-020-0801-4  46.8  26.0  "
      ]
     },
     "execution_count": 31,
     "metadata": {},
     "output_type": "execute_result"
    }
   ],
   "source": [
    "testy.head(10)"
   ]
  },
  {
   "cell_type": "code",
   "execution_count": 32,
   "id": "8ac9d842-869b-4ba1-8052-4117a5ce3b58",
   "metadata": {},
   "outputs": [
    {
     "data": {
      "text/plain": [
       "(23359, 6)"
      ]
     },
     "execution_count": 32,
     "metadata": {},
     "output_type": "execute_result"
    }
   ],
   "source": [
    "testy.shape"
   ]
  },
  {
   "cell_type": "code",
   "execution_count": 33,
   "id": "524fc326-3d75-47bd-b8da-3622678e53fa",
   "metadata": {},
   "outputs": [],
   "source": [
    "#run the frame through the unconsecutive function row-by-row\n",
    "\n",
    "for index in range(testy.shape[0]):\n",
    "    \n",
    "    #print('index: ', index)\n",
    "    \n",
    "    cont = True\n",
    "    \n",
    "    try:\n",
    "        \n",
    "        #we keep removing stuff on the same index level\n",
    "        while cont == True:\n",
    "            cont, testy = remove_unconsecutive(testy, index)\n",
    "        \n",
    "    except Exception:\n",
    "        pass\n",
    "    \n",
    "    \n",
    "    \n"
   ]
  },
  {
   "cell_type": "code",
   "execution_count": 34,
   "id": "55508f2d-e4e1-4c8e-bfd6-73b60e89e24c",
   "metadata": {},
   "outputs": [
    {
     "data": {
      "text/html": [
       "<div>\n",
       "<style scoped>\n",
       "    .dataframe tbody tr th:only-of-type {\n",
       "        vertical-align: middle;\n",
       "    }\n",
       "\n",
       "    .dataframe tbody tr th {\n",
       "        vertical-align: top;\n",
       "    }\n",
       "\n",
       "    .dataframe thead th {\n",
       "        text-align: right;\n",
       "    }\n",
       "</style>\n",
       "<table border=\"1\" class=\"dataframe\">\n",
       "  <thead>\n",
       "    <tr style=\"text-align: right;\">\n",
       "      <th></th>\n",
       "      <th>seq_id</th>\n",
       "      <th>protein_sequence</th>\n",
       "      <th>pH</th>\n",
       "      <th>data_source</th>\n",
       "      <th>tm</th>\n",
       "      <th>Size</th>\n",
       "    </tr>\n",
       "  </thead>\n",
       "  <tbody>\n",
       "    <tr>\n",
       "      <th>0</th>\n",
       "      <td>30277.0</td>\n",
       "      <td>RPAVT</td>\n",
       "      <td>7.0</td>\n",
       "      <td>doi.org/10.1038/s41592-020-0801-4</td>\n",
       "      <td>50.4</td>\n",
       "      <td>5.0</td>\n",
       "    </tr>\n",
       "    <tr>\n",
       "      <th>1</th>\n",
       "      <td>30284.0</td>\n",
       "      <td>RPGSI</td>\n",
       "      <td>7.0</td>\n",
       "      <td>doi.org/10.1038/s41592-020-0801-4</td>\n",
       "      <td>49.2</td>\n",
       "      <td>5.0</td>\n",
       "    </tr>\n",
       "    <tr>\n",
       "      <th>2</th>\n",
       "      <td>2806.0</td>\n",
       "      <td>LVVGTALNYINIF</td>\n",
       "      <td>7.0</td>\n",
       "      <td>doi.org/10.1038/s41592-020-0801-4</td>\n",
       "      <td>58.3</td>\n",
       "      <td>13.0</td>\n",
       "    </tr>\n",
       "    <tr>\n",
       "      <th>3</th>\n",
       "      <td>30387.0</td>\n",
       "      <td>SCQGTGKDSHSFSS</td>\n",
       "      <td>7.0</td>\n",
       "      <td>doi.org/10.1038/s41592-020-0801-4</td>\n",
       "      <td>37.7</td>\n",
       "      <td>14.0</td>\n",
       "    </tr>\n",
       "    <tr>\n",
       "      <th>4</th>\n",
       "      <td>1497.0</td>\n",
       "      <td>FGEDIKHLGNSISRAA</td>\n",
       "      <td>7.0</td>\n",
       "      <td>doi.org/10.1038/s41592-020-0801-4</td>\n",
       "      <td>64.4</td>\n",
       "      <td>16.0</td>\n",
       "    </tr>\n",
       "    <tr>\n",
       "      <th>5</th>\n",
       "      <td>31072.0</td>\n",
       "      <td>VPTVSFLGSISAMQFIQ</td>\n",
       "      <td>7.0</td>\n",
       "      <td>doi.org/10.1038/s41592-020-0801-4</td>\n",
       "      <td>38.7</td>\n",
       "      <td>17.0</td>\n",
       "    </tr>\n",
       "    <tr>\n",
       "      <th>6</th>\n",
       "      <td>2211.0</td>\n",
       "      <td>KFKLCRICFRELAYKGQLPGIKKAS</td>\n",
       "      <td>7.0</td>\n",
       "      <td>doi.org/10.1038/s41592-020-0801-4</td>\n",
       "      <td>76.3</td>\n",
       "      <td>25.0</td>\n",
       "    </tr>\n",
       "    <tr>\n",
       "      <th>7</th>\n",
       "      <td>195.0</td>\n",
       "      <td>AGDTLREFKNATKGLTSDEEEKKKED</td>\n",
       "      <td>7.0</td>\n",
       "      <td>doi.org/10.1038/s41592-020-0801-4</td>\n",
       "      <td>42.6</td>\n",
       "      <td>26.0</td>\n",
       "    </tr>\n",
       "    <tr>\n",
       "      <th>8</th>\n",
       "      <td>1903.0</td>\n",
       "      <td>GVKMYQRRSLEGKLQAEKRKQSEKKA</td>\n",
       "      <td>7.0</td>\n",
       "      <td>doi.org/10.1038/s41592-020-0801-4</td>\n",
       "      <td>42.3</td>\n",
       "      <td>26.0</td>\n",
       "    </tr>\n",
       "    <tr>\n",
       "      <th>9</th>\n",
       "      <td>22349.0</td>\n",
       "      <td>MRRVIPEGYGDRPFADFKYGDLWAGH</td>\n",
       "      <td>7.0</td>\n",
       "      <td>doi.org/10.1038/s41592-020-0801-4</td>\n",
       "      <td>46.8</td>\n",
       "      <td>26.0</td>\n",
       "    </tr>\n",
       "  </tbody>\n",
       "</table>\n",
       "</div>"
      ],
      "text/plain": [
       "    seq_id            protein_sequence   pH  \\\n",
       "0  30277.0                       RPAVT  7.0   \n",
       "1  30284.0                       RPGSI  7.0   \n",
       "2   2806.0               LVVGTALNYINIF  7.0   \n",
       "3  30387.0              SCQGTGKDSHSFSS  7.0   \n",
       "4   1497.0            FGEDIKHLGNSISRAA  7.0   \n",
       "5  31072.0           VPTVSFLGSISAMQFIQ  7.0   \n",
       "6   2211.0   KFKLCRICFRELAYKGQLPGIKKAS  7.0   \n",
       "7    195.0  AGDTLREFKNATKGLTSDEEEKKKED  7.0   \n",
       "8   1903.0  GVKMYQRRSLEGKLQAEKRKQSEKKA  7.0   \n",
       "9  22349.0  MRRVIPEGYGDRPFADFKYGDLWAGH  7.0   \n",
       "\n",
       "                         data_source    tm  Size  \n",
       "0  doi.org/10.1038/s41592-020-0801-4  50.4   5.0  \n",
       "1  doi.org/10.1038/s41592-020-0801-4  49.2   5.0  \n",
       "2  doi.org/10.1038/s41592-020-0801-4  58.3  13.0  \n",
       "3  doi.org/10.1038/s41592-020-0801-4  37.7  14.0  \n",
       "4  doi.org/10.1038/s41592-020-0801-4  64.4  16.0  \n",
       "5  doi.org/10.1038/s41592-020-0801-4  38.7  17.0  \n",
       "6  doi.org/10.1038/s41592-020-0801-4  76.3  25.0  \n",
       "7  doi.org/10.1038/s41592-020-0801-4  42.6  26.0  \n",
       "8  doi.org/10.1038/s41592-020-0801-4  42.3  26.0  \n",
       "9  doi.org/10.1038/s41592-020-0801-4  46.8  26.0  "
      ]
     },
     "execution_count": 34,
     "metadata": {},
     "output_type": "execute_result"
    }
   ],
   "source": [
    "testy.head(10)"
   ]
  },
  {
   "cell_type": "code",
   "execution_count": 35,
   "id": "0ada0158-716c-43a0-9a4c-314635ac034c",
   "metadata": {},
   "outputs": [
    {
     "data": {
      "text/plain": [
       "(23359, 6)"
      ]
     },
     "execution_count": 35,
     "metadata": {},
     "output_type": "execute_result"
    }
   ],
   "source": [
    "testy.shape"
   ]
  },
  {
   "cell_type": "code",
   "execution_count": 1,
   "id": "a04649d2-52a3-491a-894b-f2fd7000b33b",
   "metadata": {},
   "outputs": [
    {
     "ename": "NameError",
     "evalue": "name 'testy' is not defined",
     "output_type": "error",
     "traceback": [
      "\u001b[1;31m---------------------------------------------------------------------------\u001b[0m",
      "\u001b[1;31mNameError\u001b[0m                                 Traceback (most recent call last)",
      "Cell \u001b[1;32mIn [1], line 1\u001b[0m\n\u001b[1;32m----> 1\u001b[0m \u001b[43mtesty\u001b[49m\u001b[38;5;241m.\u001b[39mto_csv(\u001b[38;5;124m\"\u001b[39m\u001b[38;5;124mTesties.csv\u001b[39m\u001b[38;5;124m\"\u001b[39m)\n",
      "\u001b[1;31mNameError\u001b[0m: name 'testy' is not defined"
     ]
    }
   ],
   "source": [
    "testy.to_csv(\"Testies.csv\")"
   ]
  },
  {
   "cell_type": "code",
   "execution_count": null,
   "id": "3b2c083f-5f52-47ad-975c-8c6815d0b365",
   "metadata": {},
   "outputs": [],
   "source": []
  }
 ],
 "metadata": {
  "kernelspec": {
   "display_name": "Python 3 (ipykernel)",
   "language": "python",
   "name": "python3"
  },
  "language_info": {
   "codemirror_mode": {
    "name": "ipython",
    "version": 3
   },
   "file_extension": ".py",
   "mimetype": "text/x-python",
   "name": "python",
   "nbconvert_exporter": "python",
   "pygments_lexer": "ipython3",
   "version": "3.8.0"
  }
 },
 "nbformat": 4,
 "nbformat_minor": 5
}
