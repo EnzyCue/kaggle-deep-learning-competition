{
 "cells": [
  {
   "cell_type": "code",
   "execution_count": 3,
   "id": "4f263a14-6cfc-456c-b93b-440edd5f36d9",
   "metadata": {},
   "outputs": [],
   "source": [
    "import pandas as pd"
   ]
  },
  {
   "cell_type": "code",
   "execution_count": 8,
   "id": "d14d830e-5286-4a53-ac49-f50518927a9e",
   "metadata": {},
   "outputs": [],
   "source": [
    " \n",
    "def pair(test_proteins):\n",
    "    \n",
    "    \n",
    "    section_size = test_proteins.shape[0]\n",
    "    \n",
    "    \n",
    "    test_pairs = pd.DataFrame(columns = ['sequence_one', 'sequence_two'])\n",
    "    \n",
    "    for i in range(0, section_size):\n",
    "        \n",
    "        sequence_one = test_proteins.loc[i, 'protein_sequence']\n",
    "        \n",
    "        \n",
    "    \n",
    "        j = i + 1\n",
    "\n",
    "        while j < section_size:\n",
    "\n",
    "            sequence_two = test_proteins.loc[j, 'protein_sequence']\n",
    "\n",
    "\n",
    "            new_entry = pd.DataFrame({'sequence_one': sequence_one, 'sequence_two': sequence_two}, index=[0])\n",
    "\n",
    "\n",
    "            test_pairs = pd.concat([test_pairs, new_entry], ignore_index=True)\n",
    "\n",
    "            #the following entry is the same as the one before but reversed to ensure we get both types to not bias our data\n",
    "\n",
    "            new_entry = pd.DataFrame({'sequence_one': sequence_two, 'sequence_two': sequence_one}, index=[0])\n",
    "\n",
    "            test_pairs = pd.concat([test_pairs, new_entry], ignore_index=True)\n",
    "\n",
    "            j += 1\n",
    "    \n",
    "    return test_pairs\n"
   ]
  },
  {
   "cell_type": "code",
   "execution_count": 9,
   "id": "d421470d-0867-403d-ad74-6aed0185fd7a",
   "metadata": {},
   "outputs": [],
   "source": [
    "test_proteins = pd.read_csv(\"test.csv\")"
   ]
  },
  {
   "cell_type": "code",
   "execution_count": 10,
   "id": "c0b6cb8a-4234-4452-8c25-496756ded3d6",
   "metadata": {},
   "outputs": [
    {
     "data": {
      "text/plain": [
       "(2413, 4)"
      ]
     },
     "execution_count": 10,
     "metadata": {},
     "output_type": "execute_result"
    }
   ],
   "source": [
    "test_proteins.shape"
   ]
  },
  {
   "cell_type": "code",
   "execution_count": 11,
   "id": "67502dbc-ac3c-4d3f-8520-28af6ce82d7c",
   "metadata": {},
   "outputs": [
    {
     "ename": "NameError",
     "evalue": "name 'sequence_one' is not defined",
     "output_type": "error",
     "traceback": [
      "\u001b[1;31m---------------------------------------------------------------------------\u001b[0m",
      "\u001b[1;31mNameError\u001b[0m                                 Traceback (most recent call last)",
      "Cell \u001b[1;32mIn [11], line 1\u001b[0m\n\u001b[1;32m----> 1\u001b[0m test_proteins \u001b[38;5;241m=\u001b[39m \u001b[43mpair\u001b[49m\u001b[43m(\u001b[49m\u001b[43mtest_proteins\u001b[49m\u001b[43m)\u001b[49m\n",
      "Cell \u001b[1;32mIn [8], line 16\u001b[0m, in \u001b[0;36mpair\u001b[1;34m(test_proteins)\u001b[0m\n\u001b[0;32m     11\u001b[0m \u001b[38;5;28;01mwhile\u001b[39;00m j \u001b[38;5;241m<\u001b[39m section_size:\n\u001b[0;32m     13\u001b[0m     sequence_two \u001b[38;5;241m=\u001b[39m test_proteins\u001b[38;5;241m.\u001b[39mloc[j, \u001b[38;5;124m'\u001b[39m\u001b[38;5;124mprotein_sequence\u001b[39m\u001b[38;5;124m'\u001b[39m]\n\u001b[1;32m---> 16\u001b[0m     new_entry \u001b[38;5;241m=\u001b[39m pd\u001b[38;5;241m.\u001b[39mDataFrame({\u001b[38;5;124m'\u001b[39m\u001b[38;5;124msequence_one\u001b[39m\u001b[38;5;124m'\u001b[39m: \u001b[43msequence_one\u001b[49m, \u001b[38;5;124m'\u001b[39m\u001b[38;5;124msequence_two\u001b[39m\u001b[38;5;124m'\u001b[39m: sequence_two}, index\u001b[38;5;241m=\u001b[39m[\u001b[38;5;241m0\u001b[39m])\n\u001b[0;32m     19\u001b[0m     test_pairs \u001b[38;5;241m=\u001b[39m pd\u001b[38;5;241m.\u001b[39mconcat([test_pairs, new_entry], ignore_index\u001b[38;5;241m=\u001b[39m\u001b[38;5;28;01mTrue\u001b[39;00m)\n\u001b[0;32m     21\u001b[0m     \u001b[38;5;66;03m#the following entry is the same as the one before but reversed to ensure we get both types to not bias our data\u001b[39;00m\n",
      "\u001b[1;31mNameError\u001b[0m: name 'sequence_one' is not defined"
     ]
    }
   ],
   "source": [
    "test_proteins = pair(test_proteins)"
   ]
  },
  {
   "cell_type": "code",
   "execution_count": null,
   "id": "973d34c0-8fca-4445-b547-4cea447933d5",
   "metadata": {},
   "outputs": [],
   "source": []
  }
 ],
 "metadata": {
  "kernelspec": {
   "display_name": "Python 3 (ipykernel)",
   "language": "python",
   "name": "python3"
  },
  "language_info": {
   "codemirror_mode": {
    "name": "ipython",
    "version": 3
   },
   "file_extension": ".py",
   "mimetype": "text/x-python",
   "name": "python",
   "nbconvert_exporter": "python",
   "pygments_lexer": "ipython3",
   "version": "3.8.0"
  }
 },
 "nbformat": 4,
 "nbformat_minor": 5
}
