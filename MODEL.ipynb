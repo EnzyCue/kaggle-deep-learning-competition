{
 "cells": [
  {
   "cell_type": "code",
   "execution_count": 1,
   "id": "eeeb52e0-3108-402c-95e6-9a2287d2441a",
   "metadata": {},
   "outputs": [],
   "source": [
    "import torch\n",
    "import torch.nn as nn\n",
    "import torch.nn.functional as F\n",
    "import torch.optim as optim\n",
    "import matplotlib\n",
    "import seaborn as sns\n",
    "import pandas as pd\n",
    "from tqdm.notebook import tqdm\n"
   ]
  },
  {
   "cell_type": "code",
   "execution_count": 2,
   "id": "ca540918-09cd-41ce-8a7f-8a03687d6ef9",
   "metadata": {},
   "outputs": [],
   "source": [
    "\n",
    "#this function converts a single row of data from a dataframe into a biunarised list of amino acids.\n",
    "def binarise(row):\n",
    "    \n",
    "    max_protein_size = 336\n",
    "    \n",
    "    amino_acid_types = 20\n",
    "    \n",
    "    \n",
    "    blank_sequence = [0, 0, 0, 0, 0, 0, 0, 0, 0, 0, 0, 0, 0, 0, 0, 0, 0, 0, 0, 0]\n",
    "    \n",
    "    amino_acid_cipher = {'A': [1, 0, 0, 0, 0, 0, 0, 0, 0, 0, 0, 0, 0, 0, 0, 0, 0, 0, 0, 0], \n",
    "                         'C': [0, 1, 0, 0, 0, 0, 0, 0, 0, 0, 0, 0, 0, 0, 0, 0, 0, 0, 0, 0], \n",
    "                         'D': [0, 0, 1, 0, 0, 0, 0, 0, 0, 0, 0, 0, 0, 0, 0, 0, 0, 0, 0, 0], \n",
    "                         'E': [0, 0, 0, 1, 0, 0, 0, 0, 0, 0, 0, 0, 0, 0, 0, 0, 0, 0, 0, 0], \n",
    "                         'F': [0, 0, 0, 0, 1, 0, 0, 0, 0, 0, 0, 0, 0, 0, 0, 0, 0, 0, 0, 0], \n",
    "                         'G': [0, 0, 0, 0, 0, 1, 0, 0, 0, 0, 0, 0, 0, 0, 0, 0, 0, 0, 0, 0], \n",
    "                         'H': [0, 0, 0, 0, 0, 0, 1, 0, 0, 0, 0, 0, 0, 0, 0, 0, 0, 0, 0, 0], \n",
    "                         'I': [0, 0, 0, 0, 0, 0, 0, 1, 0, 0, 0, 0, 0, 0, 0, 0, 0, 0, 0, 0], \n",
    "                         'K': [0, 0, 0, 0, 0, 0, 0, 0, 1, 0, 0, 0, 0, 0, 0, 0, 0, 0, 0, 0], \n",
    "                         'L': [0, 0, 0, 0, 0, 0, 0, 0, 0, 1, 0, 0, 0, 0, 0, 0, 0, 0, 0, 0], \n",
    "                         'M': [0, 0, 0, 0, 0, 0, 0, 0, 0, 0, 1, 0, 0, 0, 0, 0, 0, 0, 0, 0], \n",
    "                         'N': [0, 0, 0, 0, 0, 0, 0, 0, 0, 0, 0, 1, 0, 0, 0, 0, 0, 0, 0, 0], \n",
    "                         'P': [0, 0, 0, 0, 0, 0, 0, 0, 0, 0, 0, 0, 1, 0, 0, 0, 0, 0, 0, 0], \n",
    "                         'Q': [0, 0, 0, 0, 0, 0, 0, 0, 0, 0, 0, 0, 0, 1, 0, 0, 0, 0, 0, 0],\n",
    "                         'R': [0, 0, 0, 0, 0, 0, 0, 0, 0, 0, 0, 0, 0, 0, 1, 0, 0, 0, 0, 0], \n",
    "                         'S': [0, 0, 0, 0, 0, 0, 0, 0, 0, 0, 0, 0, 0, 0, 0, 1, 0, 0, 0, 0], \n",
    "                         'T': [0, 0, 0, 0, 0, 0, 0, 0, 0, 0, 0, 0, 0, 0, 0, 0, 1, 0, 0, 0], \n",
    "                         'V': [0, 0, 0, 0, 0, 0, 0, 0, 0, 0, 0, 0, 0, 0, 0, 0, 0, 1, 0, 0], \n",
    "                         'W': [0, 0, 0, 0, 0, 0, 0, 0, 0, 0, 0, 0, 0, 0, 0, 0, 0, 0, 1, 0], \n",
    "                         'Y': [0, 0, 0, 0, 0, 0, 0, 0, 0, 0, 0, 0, 0, 0, 0, 0, 0, 0, 0, 1]}\n",
    "    \n",
    "    \n",
    "\n",
    "    def sequencer(string_sequence):\n",
    "        \n",
    "        binarised_sequence = []\n",
    "        \n",
    "        string_sequence = list(string_sequence)\n",
    "        \n",
    "        \n",
    "        for amino_acid in string_sequence:\n",
    "            \n",
    "            binarised_sequence += amino_acid_cipher[amino_acid]\n",
    "            \n",
    "        while len(binarised_sequence) < (max_protein_size*amino_acid_types):\n",
    "            binarised_sequence += blank_sequence \n",
    "        \n",
    "        return binarised_sequence\n",
    "            \n",
    "    \n",
    "    first_sequence = row.loc['sequence_one']\n",
    "    first_sequence = sequencer(first_sequence)\n",
    "    \n",
    "    \n",
    "    second_sequence = row.loc['sequence_two']\n",
    "    second_sequence = sequencer(second_sequence)\n",
    "    \n",
    "    final_sequence = first_sequence + second_sequence\n",
    "    \n",
    "    \n",
    "    output = 0\n",
    "    \n",
    "    if row.loc['dtm'] > 0:\n",
    "        output = 1\n",
    "\n",
    "    \n",
    "    return final_sequence, [output]\n",
    "            \n",
    "        \n",
    "   "
   ]
  },
  {
   "cell_type": "code",
   "execution_count": 3,
   "id": "3d6dd1f3-9f05-4d1c-9219-9de1d0da5c9a",
   "metadata": {},
   "outputs": [],
   "source": [
    "# list juicer [  [ [protein sequence pairs  making up 1s and 0s],  [...],  [...],  [...],   [...]   ],  [observed results]   ] \n",
    "# basically the inputs are a bunch of 1s and os for [pairs of proiteins"
   ]
  },
  {
   "cell_type": "code",
   "execution_count": 4,
   "id": "26a81911-625f-4ad0-9dfb-0eb73c2098b0",
   "metadata": {},
   "outputs": [
    {
     "data": {
      "text/plain": [
       "True"
      ]
     },
     "execution_count": 4,
     "metadata": {},
     "output_type": "execute_result"
    }
   ],
   "source": [
    "torch.cuda.is_available()"
   ]
  },
  {
   "cell_type": "code",
   "execution_count": 5,
   "id": "ef58be1c-87c8-4db8-98c9-3d65f960d447",
   "metadata": {},
   "outputs": [],
   "source": [
    "device = torch.device(\"cuda:0\")"
   ]
  },
  {
   "cell_type": "code",
   "execution_count": 31,
   "id": "07b260d0-d466-41d1-907b-0ae43a06e9f0",
   "metadata": {},
   "outputs": [],
   "source": [
    "class Net(nn.Module):\n",
    "    def __init__(self):\n",
    "        super().__init__()\n",
    "        self.layer_1 = nn.Linear(336*20*2, 336*20)\n",
    "        self.layer_2 = nn.Linear(336*20, 336*20)\n",
    "        self.layer_3 = nn.Linear(336*20, 336*10)\n",
    "        self.layer_4 = nn.Linear(336*10, 500)\n",
    "        self.layer_5= nn.Linear(500, 1)\n",
    "        \n",
    "        \n",
    "        #self.layer_3 = nn.Linear(336*10, 1) \n",
    "    \n",
    "    def forward(self, X):\n",
    "        X = F.relu(self.layer_1(X))\n",
    "        X = F.relu(self.layer_2(X))\n",
    "        X = F.relu(self.layer_3(X))\n",
    "        X = F.relu(self.layer_4(X))\n",
    "        X = self.layer_5(X)\n",
    "        \n",
    "        return  torch.sigmoid(X)  \n",
    "\n",
    "# net = torch.load(\"the_juice.pt\").to(device) \n",
    "# net.eval()\n",
    "\n",
    "net = Net().to(device) \n",
    "            "
   ]
  },
  {
   "cell_type": "code",
   "execution_count": 16,
   "id": "757f5c26-87dd-4dcb-add9-463b05032ccb",
   "metadata": {},
   "outputs": [],
   "source": [
    "proteins = pd.read_csv(\"filteredtrain3.csv\")"
   ]
  },
  {
   "cell_type": "code",
   "execution_count": 17,
   "id": "64bd7db8-efb5-4a80-8c01-5dfc01536a1d",
   "metadata": {},
   "outputs": [
    {
     "data": {
      "text/plain": [
       "109899396836300"
      ]
     },
     "execution_count": 17,
     "metadata": {},
     "output_type": "execute_result"
    }
   ],
   "source": [
    "torch.seed()"
   ]
  },
  {
   "cell_type": "code",
   "execution_count": 32,
   "id": "b25baf98-d0ad-494f-b226-8f764520d14b",
   "metadata": {},
   "outputs": [],
   "source": [
    "\n",
    "def train(net):\n",
    "    \n",
    "    print('Our seed is: ', torch.seed(), '\\n')\n",
    "    \n",
    "    criterion = nn.BCELoss()\n",
    "    #optimiser = optim.Adam(net.parameters(), lr = 0.001)\n",
    "    optimiser = optim.SGD(net.parameters(), lr = 0.001)\n",
    "    BATCH_SIZE = 64\n",
    "    EPOCHS = 100\n",
    "    \n",
    "    loss_list = []\n",
    "    \n",
    "    try:\n",
    "\n",
    "        for epoch in range(EPOCHS):\n",
    "            for i in tqdm(range(0, proteins.shape[0]-1, BATCH_SIZE)):\n",
    "\n",
    "\n",
    "                optimiser.zero_grad()\n",
    "\n",
    "\n",
    "                real_outputs =  []\n",
    "                predicted_outputs = []\n",
    "\n",
    "                batch_X = []\n",
    "\n",
    "                batch_y = []\n",
    "\n",
    "                for j in range(i, i+BATCH_SIZE):\n",
    "                    if j < proteins.shape[0]:\n",
    "\n",
    "                        X, y = binarise(proteins.loc[j])\n",
    "\n",
    "\n",
    "                        batch_X.append(X)\n",
    "                        batch_y.append(y)\n",
    "\n",
    "\n",
    "                batch_X = torch.tensor(batch_X, dtype = torch.float).to(device)\n",
    "\n",
    "\n",
    "\n",
    "                batch_y = torch.tensor(batch_y, dtype = torch.float).to(device)\n",
    "\n",
    "\n",
    "\n",
    "                predicted_outputs = net(batch_X)\n",
    "\n",
    "                loss = criterion(predicted_outputs, batch_y)\n",
    "                loss.backward()\n",
    "                optimiser.step()\n",
    "\n",
    "\n",
    "            print(f'Epoch: {epoch+1}, Loss = {loss.item():.7f}', '\\n')\n",
    "\n",
    "            if len(loss_list) == 2:\n",
    "                if (abs(loss_list[0] - loss_list[1]) <= 0.01) and (epoch > 10):\n",
    "                    break\n",
    "\n",
    "                else:\n",
    "                    loss_list.clear()\n",
    "\n",
    "            loss_list.append(loss.item())\n",
    "                \n",
    "    except KeyboardInterrupt:\n",
    "        pass\n",
    "    \n",
    "    torch.save(net, \"/Users/moham/OneDrive/Documents/enzymes/programs/models/the_juice11.pt\")\n",
    "            "
   ]
  },
  {
   "cell_type": "code",
   "execution_count": 33,
   "id": "d11ec6e5-ec7f-41e7-9b45-e35339b9f639",
   "metadata": {},
   "outputs": [
    {
     "name": "stdout",
     "output_type": "stream",
     "text": [
      "Our seed is:  116956905806700 \n",
      "\n"
     ]
    },
    {
     "data": {
      "application/json": {
       "ascii": false,
       "bar_format": null,
       "colour": null,
       "elapsed": 0.012002706527709961,
       "initial": 0,
       "n": 0,
       "ncols": null,
       "nrows": 29,
       "postfix": null,
       "prefix": "",
       "rate": null,
       "total": 3590,
       "unit": "it",
       "unit_divisor": 1000,
       "unit_scale": false
      },
      "application/vnd.jupyter.widget-view+json": {
       "model_id": "15ff3371087f43438ad4f80b1bfe505d",
       "version_major": 2,
       "version_minor": 0
      },
      "text/plain": [
       "  0%|          | 0/3590 [00:00<?, ?it/s]"
      ]
     },
     "metadata": {},
     "output_type": "display_data"
    },
    {
     "name": "stdout",
     "output_type": "stream",
     "text": [
      "Epoch: 1, Loss = 0.6932697 \n",
      "\n"
     ]
    },
    {
     "data": {
      "application/json": {
       "ascii": false,
       "bar_format": null,
       "colour": null,
       "elapsed": 0.011002063751220703,
       "initial": 0,
       "n": 0,
       "ncols": null,
       "nrows": 29,
       "postfix": null,
       "prefix": "",
       "rate": null,
       "total": 3590,
       "unit": "it",
       "unit_divisor": 1000,
       "unit_scale": false
      },
      "application/vnd.jupyter.widget-view+json": {
       "model_id": "f1e3629aedb0452492858c0b477d5058",
       "version_major": 2,
       "version_minor": 0
      },
      "text/plain": [
       "  0%|          | 0/3590 [00:00<?, ?it/s]"
      ]
     },
     "metadata": {},
     "output_type": "display_data"
    },
    {
     "name": "stdout",
     "output_type": "stream",
     "text": [
      "Epoch: 2, Loss = 0.6929655 \n",
      "\n"
     ]
    },
    {
     "data": {
      "application/json": {
       "ascii": false,
       "bar_format": null,
       "colour": null,
       "elapsed": 0.011002302169799805,
       "initial": 0,
       "n": 0,
       "ncols": null,
       "nrows": 29,
       "postfix": null,
       "prefix": "",
       "rate": null,
       "total": 3590,
       "unit": "it",
       "unit_divisor": 1000,
       "unit_scale": false
      },
      "application/vnd.jupyter.widget-view+json": {
       "model_id": "eef820241e40422d975d03a1d1ec348a",
       "version_major": 2,
       "version_minor": 0
      },
      "text/plain": [
       "  0%|          | 0/3590 [00:00<?, ?it/s]"
      ]
     },
     "metadata": {},
     "output_type": "display_data"
    },
    {
     "name": "stdout",
     "output_type": "stream",
     "text": [
      "Epoch: 3, Loss = 0.6927266 \n",
      "\n"
     ]
    },
    {
     "data": {
      "application/json": {
       "ascii": false,
       "bar_format": null,
       "colour": null,
       "elapsed": 0.011834383010864258,
       "initial": 0,
       "n": 0,
       "ncols": null,
       "nrows": 29,
       "postfix": null,
       "prefix": "",
       "rate": null,
       "total": 3590,
       "unit": "it",
       "unit_divisor": 1000,
       "unit_scale": false
      },
      "application/vnd.jupyter.widget-view+json": {
       "model_id": "5aa377a671e740308ad5d5098ab11b37",
       "version_major": 2,
       "version_minor": 0
      },
      "text/plain": [
       "  0%|          | 0/3590 [00:00<?, ?it/s]"
      ]
     },
     "metadata": {},
     "output_type": "display_data"
    },
    {
     "name": "stdout",
     "output_type": "stream",
     "text": [
      "Epoch: 4, Loss = 0.6924964 \n",
      "\n"
     ]
    },
    {
     "data": {
      "application/json": {
       "ascii": false,
       "bar_format": null,
       "colour": null,
       "elapsed": 0.011004209518432617,
       "initial": 0,
       "n": 0,
       "ncols": null,
       "nrows": 29,
       "postfix": null,
       "prefix": "",
       "rate": null,
       "total": 3590,
       "unit": "it",
       "unit_divisor": 1000,
       "unit_scale": false
      },
      "application/vnd.jupyter.widget-view+json": {
       "model_id": "0649f9b37288439ca06088b1298149c0",
       "version_major": 2,
       "version_minor": 0
      },
      "text/plain": [
       "  0%|          | 0/3590 [00:00<?, ?it/s]"
      ]
     },
     "metadata": {},
     "output_type": "display_data"
    },
    {
     "name": "stdout",
     "output_type": "stream",
     "text": [
      "Epoch: 5, Loss = 0.6922401 \n",
      "\n"
     ]
    },
    {
     "data": {
      "application/json": {
       "ascii": false,
       "bar_format": null,
       "colour": null,
       "elapsed": 0.012001991271972656,
       "initial": 0,
       "n": 0,
       "ncols": null,
       "nrows": 29,
       "postfix": null,
       "prefix": "",
       "rate": null,
       "total": 3590,
       "unit": "it",
       "unit_divisor": 1000,
       "unit_scale": false
      },
      "application/vnd.jupyter.widget-view+json": {
       "model_id": "2f5b974269fe45328733e277e87be18b",
       "version_major": 2,
       "version_minor": 0
      },
      "text/plain": [
       "  0%|          | 0/3590 [00:00<?, ?it/s]"
      ]
     },
     "metadata": {},
     "output_type": "display_data"
    },
    {
     "name": "stdout",
     "output_type": "stream",
     "text": [
      "Epoch: 6, Loss = 0.6919554 \n",
      "\n"
     ]
    },
    {
     "data": {
      "application/json": {
       "ascii": false,
       "bar_format": null,
       "colour": null,
       "elapsed": 0.012002229690551758,
       "initial": 0,
       "n": 0,
       "ncols": null,
       "nrows": 29,
       "postfix": null,
       "prefix": "",
       "rate": null,
       "total": 3590,
       "unit": "it",
       "unit_divisor": 1000,
       "unit_scale": false
      },
      "application/vnd.jupyter.widget-view+json": {
       "model_id": "e2ff53c5897c45c1aaee0c66d66ab1a5",
       "version_major": 2,
       "version_minor": 0
      },
      "text/plain": [
       "  0%|          | 0/3590 [00:00<?, ?it/s]"
      ]
     },
     "metadata": {},
     "output_type": "display_data"
    },
    {
     "name": "stdout",
     "output_type": "stream",
     "text": [
      "Epoch: 7, Loss = 0.6916165 \n",
      "\n"
     ]
    },
    {
     "data": {
      "application/json": {
       "ascii": false,
       "bar_format": null,
       "colour": null,
       "elapsed": 0.011002063751220703,
       "initial": 0,
       "n": 0,
       "ncols": null,
       "nrows": 29,
       "postfix": null,
       "prefix": "",
       "rate": null,
       "total": 3590,
       "unit": "it",
       "unit_divisor": 1000,
       "unit_scale": false
      },
      "application/vnd.jupyter.widget-view+json": {
       "model_id": "1f05cea149e843a191b9b3dc6e045ec9",
       "version_major": 2,
       "version_minor": 0
      },
      "text/plain": [
       "  0%|          | 0/3590 [00:00<?, ?it/s]"
      ]
     },
     "metadata": {},
     "output_type": "display_data"
    },
    {
     "name": "stdout",
     "output_type": "stream",
     "text": [
      "Epoch: 8, Loss = 0.6911936 \n",
      "\n"
     ]
    },
    {
     "data": {
      "application/json": {
       "ascii": false,
       "bar_format": null,
       "colour": null,
       "elapsed": 0.011002779006958008,
       "initial": 0,
       "n": 0,
       "ncols": null,
       "nrows": 29,
       "postfix": null,
       "prefix": "",
       "rate": null,
       "total": 3590,
       "unit": "it",
       "unit_divisor": 1000,
       "unit_scale": false
      },
      "application/vnd.jupyter.widget-view+json": {
       "model_id": "c77ccd14172c404a8f5ab13dc4c92bb4",
       "version_major": 2,
       "version_minor": 0
      },
      "text/plain": [
       "  0%|          | 0/3590 [00:00<?, ?it/s]"
      ]
     },
     "metadata": {},
     "output_type": "display_data"
    },
    {
     "name": "stdout",
     "output_type": "stream",
     "text": [
      "Epoch: 9, Loss = 0.6906688 \n",
      "\n"
     ]
    },
    {
     "data": {
      "application/json": {
       "ascii": false,
       "bar_format": null,
       "colour": null,
       "elapsed": 0.010001659393310547,
       "initial": 0,
       "n": 0,
       "ncols": null,
       "nrows": 29,
       "postfix": null,
       "prefix": "",
       "rate": null,
       "total": 3590,
       "unit": "it",
       "unit_divisor": 1000,
       "unit_scale": false
      },
      "application/vnd.jupyter.widget-view+json": {
       "model_id": "1597489e0fcd4c10b58ff33ce72d363a",
       "version_major": 2,
       "version_minor": 0
      },
      "text/plain": [
       "  0%|          | 0/3590 [00:00<?, ?it/s]"
      ]
     },
     "metadata": {},
     "output_type": "display_data"
    },
    {
     "name": "stdout",
     "output_type": "stream",
     "text": [
      "Epoch: 10, Loss = 0.6899999 \n",
      "\n"
     ]
    },
    {
     "data": {
      "application/json": {
       "ascii": false,
       "bar_format": null,
       "colour": null,
       "elapsed": 0.011002540588378906,
       "initial": 0,
       "n": 0,
       "ncols": null,
       "nrows": 29,
       "postfix": null,
       "prefix": "",
       "rate": null,
       "total": 3590,
       "unit": "it",
       "unit_divisor": 1000,
       "unit_scale": false
      },
      "application/vnd.jupyter.widget-view+json": {
       "model_id": "e022dd1a7f894b30ae7d11c8d4959adc",
       "version_major": 2,
       "version_minor": 0
      },
      "text/plain": [
       "  0%|          | 0/3590 [00:00<?, ?it/s]"
      ]
     },
     "metadata": {},
     "output_type": "display_data"
    },
    {
     "name": "stdout",
     "output_type": "stream",
     "text": [
      "Epoch: 11, Loss = 0.6890938 \n",
      "\n"
     ]
    },
    {
     "data": {
      "application/json": {
       "ascii": false,
       "bar_format": null,
       "colour": null,
       "elapsed": 0.011002302169799805,
       "initial": 0,
       "n": 0,
       "ncols": null,
       "nrows": 29,
       "postfix": null,
       "prefix": "",
       "rate": null,
       "total": 3590,
       "unit": "it",
       "unit_divisor": 1000,
       "unit_scale": false
      },
      "application/vnd.jupyter.widget-view+json": {
       "model_id": "ee7a46d5bcfd4fe6bc77ca2cf3a80e35",
       "version_major": 2,
       "version_minor": 0
      },
      "text/plain": [
       "  0%|          | 0/3590 [00:00<?, ?it/s]"
      ]
     },
     "metadata": {},
     "output_type": "display_data"
    },
    {
     "name": "stdout",
     "output_type": "stream",
     "text": [
      "Epoch: 12, Loss = 0.6878598 \n",
      "\n"
     ]
    },
    {
     "data": {
      "application/json": {
       "ascii": false,
       "bar_format": null,
       "colour": null,
       "elapsed": 0.01000213623046875,
       "initial": 0,
       "n": 0,
       "ncols": null,
       "nrows": 29,
       "postfix": null,
       "prefix": "",
       "rate": null,
       "total": 3590,
       "unit": "it",
       "unit_divisor": 1000,
       "unit_scale": false
      },
      "application/vnd.jupyter.widget-view+json": {
       "model_id": "42083d7abbed4ce2add64123b7850a31",
       "version_major": 2,
       "version_minor": 0
      },
      "text/plain": [
       "  0%|          | 0/3590 [00:00<?, ?it/s]"
      ]
     },
     "metadata": {},
     "output_type": "display_data"
    },
    {
     "name": "stdout",
     "output_type": "stream",
     "text": [
      "Epoch: 13, Loss = 0.6861303 \n",
      "\n"
     ]
    }
   ],
   "source": [
    "train(net)"
   ]
  },
  {
   "cell_type": "code",
   "execution_count": 51,
   "id": "37de64eb-fb82-4378-ba57-3047503a1957",
   "metadata": {},
   "outputs": [],
   "source": []
  },
  {
   "cell_type": "code",
   "execution_count": null,
   "id": "1a1499f9-f4e1-49da-b419-a0410895f5b2",
   "metadata": {},
   "outputs": [],
   "source": []
  }
 ],
 "metadata": {
  "kernelspec": {
   "display_name": "Python 3 (ipykernel)",
   "language": "python",
   "name": "python3"
  },
  "language_info": {
   "codemirror_mode": {
    "name": "ipython",
    "version": 3
   },
   "file_extension": ".py",
   "mimetype": "text/x-python",
   "name": "python",
   "nbconvert_exporter": "python",
   "pygments_lexer": "ipython3",
   "version": "3.8.0"
  }
 },
 "nbformat": 4,
 "nbformat_minor": 5
}
