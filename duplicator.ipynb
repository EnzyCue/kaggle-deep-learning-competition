{
 "cells": [
  {
   "cell_type": "code",
   "execution_count": 225,
   "id": "594cd93d-dc02-436c-b60d-569a94ab6d4c",
   "metadata": {},
   "outputs": [],
   "source": [
    "import pandas as pd\n",
    "import numpy as nd\n",
    "\n",
    "import warnings\n",
    "warnings.simplefilter(action='ignore', category=FutureWarning)\n",
    "    # Warning-causing lines of code here\n"
   ]
  },
  {
   "cell_type": "code",
   "execution_count": 226,
   "id": "b67f74ee-018d-4ded-8a8c-e9eadc8da7a8",
   "metadata": {},
   "outputs": [],
   "source": [
    "proteins = pd.read_csv(\"filteredtrain2.csv\")"
   ]
  },
  {
   "cell_type": "code",
   "execution_count": 227,
   "id": "87e2c034-20e0-4143-9804-2211a182a352",
   "metadata": {},
   "outputs": [
    {
     "name": "stdout",
     "output_type": "stream",
     "text": [
      "[209 211 213 215 217 219 221 226 228 230 266 273 274 277 279 281 283 285\n",
      " 299 301 303 309 312 314 316 318 320 331 333 335 391 393 395 397 485 487\n",
      " 489 491 493 495 497 499 501 503 505 507 509 511 513 515 517 523 525 527\n",
      " 529 531 772 783 785 787 789 790 793 795 804 806 808 810 812 814 840 842\n",
      " 846 848 850 860 861 864 866 867]\n"
     ]
    }
   ],
   "source": [
    "\n",
    "with pd.option_context('display.max_rows', None):\n",
    "    print(proteins.group_number.unique())\n",
    "\n",
    "gn_list = proteins.group_number.unique().tolist()\n",
    "\n",
    "gn_list.remove(531)\n",
    "\n",
    "gn_list.remove(397)\n",
    "\n",
    "gn_list.remove(335)\n"
   ]
  },
  {
   "cell_type": "code",
   "execution_count": 228,
   "id": "a2a3effc-dead-42a5-b8e2-4ad5e8ecc301",
   "metadata": {},
   "outputs": [],
   "source": [
    "def duplicate(proteins):\n",
    "    \n",
    "    new_frame = pd.DataFrame(columns = ['sequence_one', 'sequence_two', 'dtm', 'size', 'group_number'])\n",
    "    \n",
    "    for gn in gn_list:\n",
    "        \n",
    "        \n",
    "        gn_section = proteins.loc[proteins.group_number == gn].copy()\n",
    "        \n",
    "        \n",
    "        section_size = gn_section.shape[0]\n",
    "        counter = 0\n",
    "        for i in range(0, section_size):\n",
    "            \n",
    "            row = gn_section.iloc[i]\n",
    "            for j in range(0, ((2114 - section_size)//section_size)):\n",
    "                \n",
    "                #print(j)\n",
    "                \n",
    "                new_entry = pd.DataFrame({'sequence_one': row.sequence_one, 'sequence_two': row.sequence_two, 'dtm': row.dtm, \n",
    "                                      'size': row.loc['size'], 'group_number': row.group_number}, index=[0])\n",
    "                #new_frame.append(new_entry)\n",
    "                \n",
    "                new_frame = pd.concat([new_entry, new_frame])\n",
    "                \n",
    "                \n",
    "                new_frame.reset_index()\n",
    "                \n",
    "                counter += 1\n",
    "                \n",
    "        \n",
    "\n",
    "        print(counter, ' new entries for ', gn,'\\n')\n",
    "                \n",
    "          \n",
    "    return pd.concat([proteins, new_frame], ignore_index = True)\n",
    "            \n",
    "        \n",
    "    \n",
    "    "
   ]
  },
  {
   "cell_type": "code",
   "execution_count": 229,
   "id": "442af3a5-b0c7-4694-ba62-0ad70c5f8174",
   "metadata": {},
   "outputs": [
    {
     "data": {
      "text/plain": [
       "(71916, 5)"
      ]
     },
     "execution_count": 229,
     "metadata": {},
     "output_type": "execute_result"
    }
   ],
   "source": [
    "proteins.shape"
   ]
  },
  {
   "cell_type": "code",
   "execution_count": 230,
   "id": "e1bc71a3-941b-4448-bd0a-39e4d5705f59",
   "metadata": {},
   "outputs": [
    {
     "name": "stdout",
     "output_type": "stream",
     "text": [
      "2112  new entries for  209 \n",
      "\n",
      "2112  new entries for  211 \n",
      "\n",
      "2112  new entries for  213 \n",
      "\n",
      "2112  new entries for  215 \n",
      "\n",
      "2112  new entries for  217 \n",
      "\n",
      "2112  new entries for  219 \n",
      "\n",
      "2080  new entries for  221 \n",
      "\n",
      "2112  new entries for  226 \n",
      "\n",
      "2112  new entries for  228 \n",
      "\n",
      "0  new entries for  230 \n",
      "\n",
      "2058  new entries for  266 \n",
      "\n",
      "2112  new entries for  273 \n",
      "\n",
      "2112  new entries for  274 \n",
      "\n",
      "2112  new entries for  277 \n",
      "\n",
      "2112  new entries for  279 \n",
      "\n",
      "2112  new entries for  281 \n",
      "\n",
      "2112  new entries for  283 \n",
      "\n",
      "1820  new entries for  285 \n",
      "\n",
      "2112  new entries for  299 \n",
      "\n",
      "2112  new entries for  301 \n",
      "\n",
      "2070  new entries for  303 \n",
      "\n",
      "2106  new entries for  309 \n",
      "\n",
      "2112  new entries for  312 \n",
      "\n",
      "2112  new entries for  314 \n",
      "\n",
      "2112  new entries for  316 \n",
      "\n",
      "2112  new entries for  318 \n",
      "\n",
      "1980  new entries for  320 \n",
      "\n",
      "2112  new entries for  331 \n",
      "\n",
      "2112  new entries for  333 \n",
      "\n",
      "2112  new entries for  391 \n",
      "\n",
      "2112  new entries for  393 \n",
      "\n",
      "2112  new entries for  395 \n",
      "\n",
      "2112  new entries for  485 \n",
      "\n",
      "2112  new entries for  487 \n",
      "\n",
      "2112  new entries for  489 \n",
      "\n",
      "2112  new entries for  491 \n",
      "\n",
      "2112  new entries for  493 \n",
      "\n",
      "2112  new entries for  495 \n",
      "\n",
      "2112  new entries for  497 \n",
      "\n",
      "2112  new entries for  499 \n",
      "\n",
      "2112  new entries for  501 \n",
      "\n",
      "2112  new entries for  503 \n",
      "\n",
      "2112  new entries for  505 \n",
      "\n",
      "2112  new entries for  507 \n",
      "\n",
      "2112  new entries for  509 \n",
      "\n",
      "2112  new entries for  511 \n",
      "\n",
      "2112  new entries for  513 \n",
      "\n",
      "2112  new entries for  515 \n",
      "\n",
      "2070  new entries for  517 \n",
      "\n",
      "2112  new entries for  523 \n",
      "\n",
      "2112  new entries for  525 \n",
      "\n",
      "2112  new entries for  527 \n",
      "\n",
      "2112  new entries for  529 \n",
      "\n",
      "1980  new entries for  772 \n",
      "\n",
      "2112  new entries for  783 \n",
      "\n",
      "2112  new entries for  785 \n",
      "\n",
      "2112  new entries for  787 \n",
      "\n",
      "2112  new entries for  789 \n",
      "\n",
      "2112  new entries for  790 \n",
      "\n",
      "2112  new entries for  793 \n",
      "\n",
      "2016  new entries for  795 \n",
      "\n",
      "2112  new entries for  804 \n",
      "\n",
      "2112  new entries for  806 \n",
      "\n",
      "2112  new entries for  808 \n",
      "\n",
      "2112  new entries for  810 \n",
      "\n",
      "2112  new entries for  812 \n",
      "\n",
      "1300  new entries for  814 \n",
      "\n",
      "2112  new entries for  840 \n",
      "\n",
      "2100  new entries for  842 \n",
      "\n",
      "2112  new entries for  846 \n",
      "\n",
      "2112  new entries for  848 \n",
      "\n",
      "1980  new entries for  850 \n",
      "\n",
      "2112  new entries for  860 \n",
      "\n",
      "2112  new entries for  861 \n",
      "\n",
      "2112  new entries for  864 \n",
      "\n",
      "2112  new entries for  866 \n",
      "\n",
      "1200  new entries for  867 \n",
      "\n"
     ]
    }
   ],
   "source": [
    "proteins = duplicate(proteins)"
   ]
  },
  {
   "cell_type": "code",
   "execution_count": 231,
   "id": "87f74cf8-95f6-41e1-87c6-b4018487ffa8",
   "metadata": {},
   "outputs": [
    {
     "data": {
      "text/plain": [
       "(229732, 5)"
      ]
     },
     "execution_count": 231,
     "metadata": {},
     "output_type": "execute_result"
    }
   ],
   "source": [
    "proteins.shape"
   ]
  },
  {
   "cell_type": "code",
   "execution_count": 178,
   "id": "ce9af21c-01c7-4540-9257-48597af05ba5",
   "metadata": {},
   "outputs": [
    {
     "data": {
      "text/html": [
       "<div>\n",
       "<style scoped>\n",
       "    .dataframe tbody tr th:only-of-type {\n",
       "        vertical-align: middle;\n",
       "    }\n",
       "\n",
       "    .dataframe tbody tr th {\n",
       "        vertical-align: top;\n",
       "    }\n",
       "\n",
       "    .dataframe thead th {\n",
       "        text-align: right;\n",
       "    }\n",
       "</style>\n",
       "<table border=\"1\" class=\"dataframe\">\n",
       "  <thead>\n",
       "    <tr style=\"text-align: right;\">\n",
       "      <th></th>\n",
       "      <th>sequence_one</th>\n",
       "      <th>sequence_two</th>\n",
       "      <th>dtm</th>\n",
       "      <th>size</th>\n",
       "      <th>group_number</th>\n",
       "    </tr>\n",
       "  </thead>\n",
       "  <tbody>\n",
       "  </tbody>\n",
       "</table>\n",
       "</div>"
      ],
      "text/plain": [
       "Empty DataFrame\n",
       "Columns: [sequence_one, sequence_two, dtm, size, group_number]\n",
       "Index: []"
      ]
     },
     "execution_count": 178,
     "metadata": {},
     "output_type": "execute_result"
    }
   ],
   "source": [
    "proteins"
   ]
  },
  {
   "cell_type": "code",
   "execution_count": 232,
   "id": "67ba65eb-d640-4501-a7ef-d494b9ec83be",
   "metadata": {},
   "outputs": [],
   "source": [
    "proteins.to_csv('filteredtrain3.csv', index=False)"
   ]
  },
  {
   "cell_type": "code",
   "execution_count": 95,
   "id": "2cb26db9-02e8-4474-8294-c23ab94d4177",
   "metadata": {},
   "outputs": [
    {
     "name": "stdout",
     "output_type": "stream",
     "text": [
      "[209. 211. 213. 215. 217. 219. 221. 226. 228. 230. 266. 273. 274. 277.\n",
      " 279. 281. 283. 285. 299. 301. 303. 309. 312. 314. 316. 318. 320. 331.\n",
      " 333. 335. 391. 393. 395. 397. 485. 487. 489. 491. 493. 495. 497. 499.\n",
      " 501. 503. 505. 507. 509. 511. 513. 515. 517. 523. 525. 527. 529. 531.\n",
      " 772. 783. 785. 787. 789. 790. 793. 795. 804. 806. 808. 810. 812. 814.\n",
      " 840. 842. 846. 848. 850. 860. 861. 864. 866. 867.  nan]\n"
     ]
    }
   ],
   "source": [
    "with pd.option_context('display.max_rows', None):\n",
    "    print(proteins.group_number.unique())"
   ]
  },
  {
   "cell_type": "code",
   "execution_count": 233,
   "id": "149f4907-a64f-46b6-81da-1c7a139745ad",
   "metadata": {},
   "outputs": [
    {
     "name": "stdout",
     "output_type": "stream",
     "text": [
      "531    57840\n",
      "397     7656\n",
      "335     3080\n",
      "499     2114\n",
      "501     2114\n",
      "211     2114\n",
      "503     2114\n",
      "505     2114\n",
      "507     2114\n",
      "493     2114\n",
      "509     2114\n",
      "511     2114\n",
      "513     2114\n",
      "515     2114\n",
      "523     2114\n",
      "525     2114\n",
      "527     2114\n",
      "529     2114\n",
      "209     2114\n",
      "783     2114\n",
      "785     2114\n",
      "787     2114\n",
      "866     2114\n",
      "864     2114\n",
      "861     2114\n",
      "860     2114\n",
      "848     2114\n",
      "846     2114\n",
      "840     2114\n",
      "812     2114\n",
      "810     2114\n",
      "808     2114\n",
      "806     2114\n",
      "804     2114\n",
      "793     2114\n",
      "790     2114\n",
      "789     2114\n",
      "495     2114\n",
      "497     2114\n",
      "491     2114\n",
      "217     2114\n",
      "226     2114\n",
      "228     2114\n",
      "215     2114\n",
      "213     2114\n",
      "273     2114\n",
      "274     2114\n",
      "277     2114\n",
      "279     2114\n",
      "281     2114\n",
      "283     2114\n",
      "489     2114\n",
      "299     2114\n",
      "301     2114\n",
      "333     2114\n",
      "331     2114\n",
      "487     2114\n",
      "485     2114\n",
      "395     2114\n",
      "393     2114\n",
      "391     2114\n",
      "219     2114\n",
      "318     2114\n",
      "316     2114\n",
      "314     2114\n",
      "312     2114\n",
      "842     2112\n",
      "309     2112\n",
      "303     2100\n",
      "517     2100\n",
      "266     2100\n",
      "221     2100\n",
      "320     2090\n",
      "772     2090\n",
      "795     2088\n",
      "850     2070\n",
      "285     2002\n",
      "814     1950\n",
      "867     1800\n",
      "230     1260\n",
      "Name: group_number, dtype: int64\n"
     ]
    }
   ],
   "source": [
    "with pd.option_context('display.max_rows', None):\n",
    "    print(proteins.group_number.value_counts())"
   ]
  },
  {
   "cell_type": "code",
   "execution_count": null,
   "id": "67f0d27f-23a0-407e-a807-34fe72608208",
   "metadata": {},
   "outputs": [],
   "source": []
  }
 ],
 "metadata": {
  "kernelspec": {
   "display_name": "Python 3 (ipykernel)",
   "language": "python",
   "name": "python3"
  },
  "language_info": {
   "codemirror_mode": {
    "name": "ipython",
    "version": 3
   },
   "file_extension": ".py",
   "mimetype": "text/x-python",
   "name": "python",
   "nbconvert_exporter": "python",
   "pygments_lexer": "ipython3",
   "version": "3.8.0"
  }
 },
 "nbformat": 4,
 "nbformat_minor": 5
}
